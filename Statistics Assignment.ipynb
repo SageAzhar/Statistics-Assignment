{
 "cells": [
  {
   "cell_type": "code",
   "execution_count": 1,
   "id": "9894e7dd",
   "metadata": {},
   "outputs": [],
   "source": [
    "import numpy as np\n",
    "import pandas as pd\n",
    "import seaborn as sns\n",
    "from matplotlib import pyplot as plt"
   ]
  },
  {
   "cell_type": "code",
   "execution_count": null,
   "id": "f21d8d52",
   "metadata": {},
   "outputs": [],
   "source": []
  },
  {
   "cell_type": "markdown",
   "id": "322f74f0",
   "metadata": {},
   "source": [
    "# task 1) Plot a histogram"
   ]
  },
  {
   "cell_type": "code",
   "execution_count": 2,
   "id": "23f5e294",
   "metadata": {},
   "outputs": [],
   "source": [
    "nums = [10, 13, 18, 22, 27, 32, 38, 40, 45, 51, 56, 57, 88, 90, 92, 94, 99]"
   ]
  },
  {
   "cell_type": "code",
   "execution_count": 10,
   "id": "881e1c94",
   "metadata": {},
   "outputs": [
    {
     "data": {
      "image/png": "[encoded data removed]",
      "text/plain": [
       "<Figure size 540x252 with 1 Axes>"
      ]
     },
     "metadata": {
      "needs_background": "light"
     },
     "output_type": "display_data"
    }
   ],
   "source": [
    "Hist_Plot = sns.histplot(data = nums)"
   ]
  },
  {
   "cell_type": "code",
   "execution_count": null,
   "id": "3dafbca6",
   "metadata": {},
   "outputs": [],
   "source": []
  },
  {
   "cell_type": "markdown",
   "id": "4cefa224",
   "metadata": {},
   "source": [
    "# TASK 2) In a quant test of the CAT Exam, the population standard deviation is known to be 100. A sample of 25 tests taken has a mean of 520. Construct an 80% CI about the mean."
   ]
  },
  {
   "cell_type": "markdown",
   "id": "f0164d12",
   "metadata": {},
   "source": [
    "Sample Size: 25\n",
    "Sample Mean: 520\n",
    "Standard Deviation: 100\n",
    "Confidence Level: 80%\n",
    "80% Confidence Interval: 520 ± 25.6\n",
    "(494 to 546)\n",
    "\n",
    "\"With 80% confidence the population mean is between 494 and 546, based on only 25 samples.\"\n",
    "\n",
    "520 (80% CI 494 to 546)\n",
    "\n",
    "\n",
    "Margin of Error: 25.6\n",
    "(to more digits: 25.63)\n",
    "\n"
   ]
  },
  {
   "cell_type": "markdown",
   "id": "0743a918",
   "metadata": {},
   "source": []
  },
  {
   "cell_type": "markdown",
   "id": "d4219528",
   "metadata": {},
   "source": [
    "# Que 3) A car believes that the percentage of citizens in city ABC that owns a vehicle is 60% or less.\n",
    "# A sales manager disagrees with this. He conducted a hypothesis testing surveying 250 residents & found that 170 residents responded yes to owning a vehicle.\n",
    "# 1)State the null & alternate hypothesis.\n",
    "# 2)At a 10% significance level, is there enough evidence to support the idea that vehicle owner in ABC city is 60% or less.\n"
   ]
  },
  {
   "cell_type": "markdown",
   "id": "7bd40344",
   "metadata": {},
   "source": [
    "n = sample size == 250\n",
    "P1 = Sample proportion = 0.68 (170/250)\n",
    "P2 = population proportion = 0.60 \n",
    "\n",
    "1) Null hypothesis H0 = P = 0.60\n",
    "   Alternate hypothesis H1 = p != 0.60\n",
    "   \n",
    "   significance = 0.1 ==> C.I = 0.9 (90%)\n",
    "   \n",
    "   Decision rule = -1.64 to 1.64\n",
    "   \n",
    "   ===> 0.68 - 0.60 / SQRT(0.60(1-0.60)/250\n",
    "   \n",
    "   ===> 2.66 != -1.6 to 1.6\n",
    "<!--    hence reject the null hypothesis and accept the alt. hypo. -->\n",
    "<!--    Not enough evidence to prove that the percentage of vehicle owner in ABC city is 60% or less.  -->\n",
    "\n"
   ]
  },
  {
   "cell_type": "code",
   "execution_count": null,
   "id": "b0e84001",
   "metadata": {},
   "outputs": [],
   "source": []
  },
  {
   "cell_type": "markdown",
   "id": "58edfe2f",
   "metadata": {},
   "source": []
  },
  {
   "cell_type": "markdown",
   "id": "1c2c0a12",
   "metadata": {},
   "source": [
    "# TASK 4) What is the value of the 99 percentile?\n",
    " 2,2,3,4,5,5,5,6,7,8,8,8,8,8,9,9,10,11,11,12\n"
   ]
  },
  {
   "cell_type": "markdown",
   "id": "42dd8af1",
   "metadata": {},
   "source": [
    "n = 20\n",
    "\n",
    "x = 99/100 * 21\n",
    "==> 20.79th index ==> 12\n",
    "==> 12 is the 99 percentile value."
   ]
  },
  {
   "cell_type": "code",
   "execution_count": null,
   "id": "636edad7",
   "metadata": {},
   "outputs": [],
   "source": [
    "\n"
   ]
  },
  {
   "cell_type": "markdown",
   "id": "dfcb1b9b",
   "metadata": {},
   "source": [
    "# TASK 5) In left & right-skewed data, what is the relationship between mean, median & mode?\n",
    "# Draw the graph to represent the same.\n"
   ]
  },
  {
   "cell_type": "markdown",
   "id": "02c428cb",
   "metadata": {},
   "source": [
    "<!-- Answer :  In left skewed data, the mean is less than the median, which is often less than the mode.\n",
    "In Right skewed data, the mode is often less than the median, which is less than the mean. -->"
   ]
  },
  {
   "cell_type": "code",
   "execution_count": 21,
   "id": "fcde179f",
   "metadata": {},
   "outputs": [
    {
     "data": {
      "image/png": "[encoded data removed]",
      "text/plain": [
       "<Figure size 540x252 with 1 Axes>"
      ]
     },
     "metadata": {
      "needs_background": "light"
     },
     "output_type": "display_data"
    }
   ],
   "source": [
    "Years = ['2012','2013','2014','2015','2016','2017']\n",
    "profits = [1,4,6,8,10,2]\n",
    "\n",
    "# right skewed data\n",
    "plt.plot(Years, profits, 'blue')\n",
    "plt.show()"
   ]
  },
  {
   "cell_type": "code",
   "execution_count": 23,
   "id": "677bb65b",
   "metadata": {},
   "outputs": [
    {
     "data": {
      "image/png": "[encoded data removed]",
      "text/plain": [
       "<Figure size 540x252 with 1 Axes>"
      ]
     },
     "metadata": {
      "needs_background": "light"
     },
     "output_type": "display_data"
    }
   ],
   "source": [
    "Years2 = ['2012','2013','2014','2015','2016','2017']\n",
    "profits2 = [2,10,8,5,3,2]\n",
    "\n",
    "# left skewed data\n",
    "plt.plot(Years2, profits2, 'blue')\n",
    "plt.show()"
   ]
  },
  {
   "cell_type": "code",
   "execution_count": null,
   "id": "fed110fd",
   "metadata": {},
   "outputs": [],
   "source": []
  },
  {
   "cell_type": "code",
   "execution_count": null,
   "id": "32f89b13",
   "metadata": {},
   "outputs": [],
   "source": []
  },
  {
   "cell_type": "code",
   "execution_count": null,
   "id": "d6fdc479",
   "metadata": {},
   "outputs": [],
   "source": []
  },
  {
   "cell_type": "code",
   "execution_count": null,
   "id": "85d50c1b",
   "metadata": {},
   "outputs": [],
   "source": []
  },
  {
   "cell_type": "code",
   "execution_count": null,
   "id": "a94c0632",
   "metadata": {},
   "outputs": [],
   "source": []
  },
  {
   "cell_type": "code",
   "execution_count": null,
   "id": "9da21fa7",
   "metadata": {},
   "outputs": [],
   "source": []
  },
  {
   "cell_type": "code",
   "execution_count": null,
   "id": "6267b545",
   "metadata": {},
   "outputs": [],
   "source": []
  },
  {
   "cell_type": "code",
   "execution_count": null,
   "id": "86952826",
   "metadata": {},
   "outputs": [],
   "source": []
  },
  {
   "cell_type": "code",
   "execution_count": null,
   "id": "e222df39",
   "metadata": {},
   "outputs": [],
   "source": []
  },
  {
   "cell_type": "code",
   "execution_count": null,
   "id": "6354b0b0",
   "metadata": {},
   "outputs": [],
   "source": []
  }
 ],
 "metadata": {
  "kernelspec": {
   "display_name": "Python 3 (ipykernel)",
   "language": "python",
   "name": "python3"
  },
  "language_info": {
   "codemirror_mode": {
    "name": "ipython",
    "version": 3
   },
   "file_extension": ".py",
   "mimetype": "text/x-python",
   "name": "python",
   "nbconvert_exporter": "python",
   "pygments_lexer": "ipython3",
   "version": "3.9.7"
  }
 },
 "nbformat": 4,
 "nbformat_minor": 5
}
